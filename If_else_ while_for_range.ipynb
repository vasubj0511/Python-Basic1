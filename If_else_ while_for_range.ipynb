{
 "cells": [
  {
   "cell_type": "code",
   "execution_count": 8,
   "id": "81b25c6e-cfc6-492b-9ca5-d54a6a9b34bc",
   "metadata": {},
   "outputs": [
    {
     "name": "stdin",
     "output_type": "stream",
     "text": [
      " 4\n"
     ]
    },
    {
     "name": "stdout",
     "output_type": "stream",
     "text": [
      "Between 2 and 9\n"
     ]
    }
   ],
   "source": [
    "a=int(input())\n",
    "if a>10:\n",
    "    pass\n",
    "elif a>=2 and a<=9:\n",
    "    print(\"Between 2 and 9\")\n",
    "else:\n",
    "    print(\"Less than or eq 10\")"
   ]
  },
  {
   "cell_type": "code",
   "execution_count": 16,
   "id": "41f210f3-468f-4cbc-b44e-0647e22c06b7",
   "metadata": {},
   "outputs": [
    {
     "name": "stdin",
     "output_type": "stream",
     "text": [
      " 100\n"
     ]
    },
    {
     "name": "stdout",
     "output_type": "stream",
     "text": [
      "Greater than 10\n",
      "Greater than or eq 90\n"
     ]
    }
   ],
   "source": [
    "a=int(input())\n",
    "if a>10:\n",
    "    print('Greater than 10')\n",
    "if a<=90:\n",
    "    print(\"Between 2 and 90\")\n",
    "else:\n",
    "    print(\"Greater than or eq 90\")"
   ]
  },
  {
   "cell_type": "code",
   "execution_count": 20,
   "id": "bd50460c-5028-4a04-bd6d-6e8df0ae1d4d",
   "metadata": {},
   "outputs": [
    {
     "name": "stdout",
     "output_type": "stream",
     "text": [
      "1\n"
     ]
    }
   ],
   "source": [
    "n=5\n",
    "i=1\n",
    "while i<n:\n",
    "    print(i)\n",
    "    i+=1\n",
    "    if i==2:\n",
    "        break\n",
    "#Break function testing. It is  breaking the execution\n",
    "else:\n",
    "    print('Execution is complete')"
   ]
  },
  {
   "cell_type": "code",
   "execution_count": 35,
   "id": "1bfdcba7-4f94-45d4-97cd-923c19ad3135",
   "metadata": {},
   "outputs": [
    {
     "name": "stdout",
     "output_type": "stream",
     "text": [
      "2\n",
      "3\n",
      "4\n",
      "5\n",
      "Execution is complete\n"
     ]
    }
   ],
   "source": [
    "n=5\n",
    "i=1\n",
    "while i<n:\n",
    "    \n",
    "    i+=1\n",
    "    if i==2:\n",
    "        pass\n",
    "    print(i)\n",
    "#Break function testing. It is  breaking the execution\n",
    "else:\n",
    "    print('Execution is complete')"
   ]
  },
  {
   "cell_type": "code",
   "execution_count": null,
   "id": "21f3f0d5-1a20-4fd9-a576-326ea704512f",
   "metadata": {},
   "outputs": [],
   "source": []
  },
  {
   "cell_type": "code",
   "execution_count": 25,
   "id": "1b678c65-5740-4976-ac98-55c0fd5f4873",
   "metadata": {},
   "outputs": [],
   "source": [
    "s='Srinivas'"
   ]
  },
  {
   "cell_type": "code",
   "execution_count": 27,
   "id": "c8207c03-057c-4aed-9058-481070432b94",
   "metadata": {},
   "outputs": [
    {
     "name": "stdout",
     "output_type": "stream",
     "text": [
      "S\n",
      "r\n",
      "i\n",
      "n\n",
      "i\n",
      "v\n",
      "a\n",
      "s\n"
     ]
    }
   ],
   "source": [
    "for i in s:\n",
    "    print(i)"
   ]
  },
  {
   "cell_type": "code",
   "execution_count": 28,
   "id": "94983679-bbb8-44db-90a3-577bdc1b8efa",
   "metadata": {},
   "outputs": [],
   "source": [
    "L1=[1,2,8,'sri',5+6j,True]"
   ]
  },
  {
   "cell_type": "code",
   "execution_count": 34,
   "id": "b77395da-33fc-498e-8dfb-31be91a2443a",
   "metadata": {},
   "outputs": [
    {
     "name": "stdout",
     "output_type": "stream",
     "text": [
      "1\n",
      "2\n",
      "8\n",
      "sri\n"
     ]
    }
   ],
   "source": [
    "for i in L1:\n",
    "    print(i)\n",
    "    if i=='sri':\n",
    "        break\n",
    "else:\n",
    "    print('print is complete')"
   ]
  },
  {
   "cell_type": "code",
   "execution_count": 37,
   "id": "40d6dd55-7f7c-42b9-b77b-e7c8aede9d17",
   "metadata": {},
   "outputs": [
    {
     "name": "stdout",
     "output_type": "stream",
     "text": [
      "0\n",
      "1\n",
      "2\n",
      "3\n",
      "4\n",
      "5\n",
      "6\n",
      "7\n",
      "8\n",
      "9\n",
      "print is complete\n"
     ]
    }
   ],
   "source": [
    "for i in range(10):\n",
    "    print(i)\n",
    "    if i=='sri':\n",
    "        break\n",
    "else:\n",
    "    print('print is complete')"
   ]
  },
  {
   "cell_type": "code",
   "execution_count": 40,
   "id": "9c79add8-cfb4-4785-9928-93484f6ac6b7",
   "metadata": {},
   "outputs": [
    {
     "name": "stdout",
     "output_type": "stream",
     "text": [
      "1\n",
      "2\n",
      "3\n",
      "4\n",
      "5\n",
      "6\n",
      "7\n",
      "8\n",
      "9\n",
      "print is complete\n"
     ]
    }
   ],
   "source": [
    "for i in range(1,10):\n",
    "    print(i)\n",
    "    if i=='sri':\n",
    "        break\n",
    "else:\n",
    "    print('print is complete')"
   ]
  },
  {
   "cell_type": "code",
   "execution_count": 36,
   "id": "03b405fa-aed9-4280-b18a-4a5499771023",
   "metadata": {},
   "outputs": [
    {
     "data": {
      "text/plain": [
       "[0, 1, 2, 3, 4, 5, 6, 7, 8]"
      ]
     },
     "execution_count": 36,
     "metadata": {},
     "output_type": "execute_result"
    }
   ],
   "source": [
    "list(range(9))"
   ]
  }
 ],
 "metadata": {
  "kernelspec": {
   "display_name": "Python 3 (ipykernel)",
   "language": "python",
   "name": "python3"
  },
  "language_info": {
   "codemirror_mode": {
    "name": "ipython",
    "version": 3
   },
   "file_extension": ".py",
   "mimetype": "text/x-python",
   "name": "python",
   "nbconvert_exporter": "python",
   "pygments_lexer": "ipython3",
   "version": "3.10.8"
  }
 },
 "nbformat": 4,
 "nbformat_minor": 5
}
