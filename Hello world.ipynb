{
 "cells": [
  {
   "cell_type": "code",
   "execution_count": 1,
   "id": "0b8fc96c-4243-4ac8-9995-224ba6d41e96",
   "metadata": {},
   "outputs": [
    {
     "data": {
      "text/plain": [
       "3"
      ]
     },
     "execution_count": 1,
     "metadata": {},
     "output_type": "execute_result"
    }
   ],
   "source": [
    "1+2"
   ]
  },
  {
   "cell_type": "code",
   "execution_count": 1,
   "id": "de528a54-ea70-430a-ae27-d9152e423f2d",
   "metadata": {},
   "outputs": [
    {
     "name": "stdout",
     "output_type": "stream",
     "text": [
      "Hello programming world\n"
     ]
    }
   ],
   "source": [
    "print(\"Hello programming world\")"
   ]
  },
  {
   "cell_type": "code",
   "execution_count": 2,
   "id": "cbcd8bff-9d0d-4791-ad15-2a2e61dd79d8",
   "metadata": {},
   "outputs": [],
   "source": [
    "a=10"
   ]
  },
  {
   "cell_type": "code",
   "execution_count": 3,
   "id": "43e3aa52-adc1-486b-a531-60fa9e9de0c6",
   "metadata": {},
   "outputs": [
    {
     "data": {
      "text/plain": [
       "10"
      ]
     },
     "execution_count": 3,
     "metadata": {},
     "output_type": "execute_result"
    }
   ],
   "source": [
    "a"
   ]
  },
  {
   "cell_type": "code",
   "execution_count": 4,
   "id": "a1a6c2ec-eb3b-4841-b61b-fa06c2b06924",
   "metadata": {},
   "outputs": [
    {
     "data": {
      "text/plain": [
       "int"
      ]
     },
     "execution_count": 4,
     "metadata": {},
     "output_type": "execute_result"
    }
   ],
   "source": [
    "type(a)"
   ]
  },
  {
   "cell_type": "code",
   "execution_count": 5,
   "id": "0364ee5d-6ba6-4f70-8320-5abde23556f0",
   "metadata": {},
   "outputs": [],
   "source": [
    "b=13.55"
   ]
  },
  {
   "cell_type": "code",
   "execution_count": 6,
   "id": "24aa0407-829d-452b-a986-4abea96f22a5",
   "metadata": {},
   "outputs": [
    {
     "data": {
      "text/plain": [
       "float"
      ]
     },
     "execution_count": 6,
     "metadata": {},
     "output_type": "execute_result"
    }
   ],
   "source": [
    "type(b)"
   ]
  },
  {
   "cell_type": "code",
   "execution_count": 7,
   "id": "f3203afa-bba9-4a2e-ada9-7f99bc6d6eab",
   "metadata": {},
   "outputs": [],
   "source": [
    "c=\"Sri\""
   ]
  },
  {
   "cell_type": "code",
   "execution_count": 8,
   "id": "6efb7d41-ba42-4cf2-88c9-fa41a16237bf",
   "metadata": {},
   "outputs": [
    {
     "data": {
      "text/plain": [
       "str"
      ]
     },
     "execution_count": 8,
     "metadata": {},
     "output_type": "execute_result"
    }
   ],
   "source": [
    "type(c)"
   ]
  },
  {
   "cell_type": "code",
   "execution_count": 10,
   "id": "698e340e-90be-49dd-b661-ec8e9746af42",
   "metadata": {},
   "outputs": [],
   "source": [
    "d=True"
   ]
  },
  {
   "cell_type": "code",
   "execution_count": 11,
   "id": "b41e9993-a678-4e22-9705-2c0e77a2fd1e",
   "metadata": {},
   "outputs": [
    {
     "data": {
      "text/plain": [
       "bool"
      ]
     },
     "execution_count": 11,
     "metadata": {},
     "output_type": "execute_result"
    }
   ],
   "source": [
    "type(d)"
   ]
  },
  {
   "cell_type": "code",
   "execution_count": 12,
   "id": "e1fbcb32-6ff7-4041-bc41-e7fc749fd897",
   "metadata": {},
   "outputs": [
    {
     "data": {
      "text/plain": [
       "-1"
      ]
     },
     "execution_count": 12,
     "metadata": {},
     "output_type": "execute_result"
    }
   ],
   "source": [
    "False-True"
   ]
  },
  {
   "cell_type": "code",
   "execution_count": 14,
   "id": "567b0573-73ac-43b1-9143-bb837847158a",
   "metadata": {},
   "outputs": [],
   "source": [
    "e=5+6j"
   ]
  },
  {
   "cell_type": "code",
   "execution_count": 15,
   "id": "e2537c91-c7f4-41c0-800d-ce0b5c35ebcd",
   "metadata": {},
   "outputs": [
    {
     "data": {
      "text/plain": [
       "complex"
      ]
     },
     "execution_count": 15,
     "metadata": {},
     "output_type": "execute_result"
    }
   ],
   "source": [
    "type(e)"
   ]
  },
  {
   "cell_type": "code",
   "execution_count": 16,
   "id": "bb6ccd3a-1b49-43c0-8e5c-7bbcc3da43f7",
   "metadata": {},
   "outputs": [
    {
     "data": {
      "text/plain": [
       "5.0"
      ]
     },
     "execution_count": 16,
     "metadata": {},
     "output_type": "execute_result"
    }
   ],
   "source": [
    "e.real"
   ]
  },
  {
   "cell_type": "code",
   "execution_count": 18,
   "id": "868d1258-0faa-48eb-9cff-b61168e8deb2",
   "metadata": {},
   "outputs": [
    {
     "data": {
      "text/plain": [
       "6.0"
      ]
     },
     "execution_count": 18,
     "metadata": {},
     "output_type": "execute_result"
    }
   ],
   "source": [
    "#This is an imaginary part of complex number\n",
    "e.imag"
   ]
  },
  {
   "cell_type": "code",
   "execution_count": 19,
   "id": "ffed66d8-c1b1-4286-97c3-3d20746bc085",
   "metadata": {},
   "outputs": [
    {
     "data": {
      "text/plain": [
       "<function complex.conjugate()>"
      ]
     },
     "execution_count": 19,
     "metadata": {},
     "output_type": "execute_result"
    }
   ],
   "source": [
    "'''This is an imaginary part \n",
    "\n",
    "of complex number'''\n",
    "e.conjugate"
   ]
  },
  {
   "cell_type": "code",
   "execution_count": 20,
   "id": "6046aaf4-199c-45ec-80bf-fcae492265bb",
   "metadata": {},
   "outputs": [
    {
     "data": {
      "text/plain": [
       "False"
      ]
     },
     "execution_count": 20,
     "metadata": {},
     "output_type": "execute_result"
    }
   ],
   "source": [
    "11==10"
   ]
  },
  {
   "cell_type": "code",
   "execution_count": 21,
   "id": "ae4953ad-2125-46d2-84fa-ccc2c1c24eed",
   "metadata": {},
   "outputs": [
    {
     "data": {
      "text/plain": [
       "'10Sri'"
      ]
     },
     "execution_count": 21,
     "metadata": {},
     "output_type": "execute_result"
    }
   ],
   "source": [
    "str(a)+c"
   ]
  },
  {
   "cell_type": "code",
   "execution_count": 22,
   "id": "b5306142-0b60-4e96-b40b-33b7b5b1b3e5",
   "metadata": {},
   "outputs": [
    {
     "data": {
      "text/plain": [
       "'13.55Sri'"
      ]
     },
     "execution_count": 22,
     "metadata": {},
     "output_type": "execute_result"
    }
   ],
   "source": [
    "str(b)+c"
   ]
  },
  {
   "cell_type": "code",
   "execution_count": 24,
   "id": "b0cc890a-c5e8-47e1-9460-b6cc42aaad1e",
   "metadata": {},
   "outputs": [
    {
     "name": "stdin",
     "output_type": "stream",
     "text": [
      " 66\n"
     ]
    }
   ],
   "source": [
    "a1=input()"
   ]
  },
  {
   "cell_type": "code",
   "execution_count": 25,
   "id": "861443e9-2b2a-43fa-812c-6721b4568f0e",
   "metadata": {},
   "outputs": [
    {
     "data": {
      "text/plain": [
       "str"
      ]
     },
     "execution_count": 25,
     "metadata": {},
     "output_type": "execute_result"
    }
   ],
   "source": [
    "type(a1)"
   ]
  }
 ],
 "metadata": {
  "kernelspec": {
   "display_name": "Python 3 (ipykernel)",
   "language": "python",
   "name": "python3"
  },
  "language_info": {
   "codemirror_mode": {
    "name": "ipython",
    "version": 3
   },
   "file_extension": ".py",
   "mimetype": "text/x-python",
   "name": "python",
   "nbconvert_exporter": "python",
   "pygments_lexer": "ipython3",
   "version": "3.10.8"
  }
 },
 "nbformat": 4,
 "nbformat_minor": 5
}
