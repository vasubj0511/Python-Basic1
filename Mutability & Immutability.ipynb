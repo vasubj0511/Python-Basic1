{
 "cells": [
  {
   "cell_type": "code",
   "execution_count": 3,
   "id": "ce11264c-21de-41ff-8adb-984e71affc6c",
   "metadata": {},
   "outputs": [],
   "source": [
    "f=\"Sri\""
   ]
  },
  {
   "cell_type": "code",
   "execution_count": 4,
   "id": "d7275292-9798-41f6-8f92-59fc5760bee0",
   "metadata": {},
   "outputs": [
    {
     "data": {
      "text/plain": [
       "'i'"
      ]
     },
     "execution_count": 4,
     "metadata": {},
     "output_type": "execute_result"
    }
   ],
   "source": [
    "f[2]"
   ]
  },
  {
   "cell_type": "code",
   "execution_count": 7,
   "id": "b2470e4a-2442-413b-96d7-0f9a1b78bfa6",
   "metadata": {},
   "outputs": [
    {
     "data": {
      "text/plain": [
       "'S'"
      ]
     },
     "execution_count": 7,
     "metadata": {},
     "output_type": "execute_result"
    }
   ],
   "source": [
    "f[-3]"
   ]
  },
  {
   "cell_type": "code",
   "execution_count": 9,
   "id": "71a9bd36-969f-4606-91f9-9d7381deba98",
   "metadata": {},
   "outputs": [],
   "source": [
    "L1=[1,2,3,4,'Sri', False]"
   ]
  },
  {
   "cell_type": "code",
   "execution_count": 10,
   "id": "002e7f5b-fe6c-4b10-85c2-df01541ed4ff",
   "metadata": {},
   "outputs": [
    {
     "data": {
      "text/plain": [
       "list"
      ]
     },
     "execution_count": 10,
     "metadata": {},
     "output_type": "execute_result"
    }
   ],
   "source": [
    "type(L1)"
   ]
  },
  {
   "cell_type": "code",
   "execution_count": 13,
   "id": "7174e96c-5d86-463f-a01e-a52630aa1c43",
   "metadata": {},
   "outputs": [
    {
     "data": {
      "text/plain": [
       "'Sri'"
      ]
     },
     "execution_count": 13,
     "metadata": {},
     "output_type": "execute_result"
    }
   ],
   "source": [
    "L1[4]"
   ]
  },
  {
   "cell_type": "code",
   "execution_count": 17,
   "id": "201d5e97-0c66-4bc2-bb2a-18da6e557adc",
   "metadata": {},
   "outputs": [
    {
     "data": {
      "text/plain": [
       "'i'"
      ]
     },
     "execution_count": 17,
     "metadata": {},
     "output_type": "execute_result"
    }
   ],
   "source": [
    "L1[-2][2]"
   ]
  },
  {
   "cell_type": "code",
   "execution_count": 18,
   "id": "cb5c59c4-0600-48b0-b176-b30e978d4200",
   "metadata": {},
   "outputs": [],
   "source": [
    "L1[3]='de'"
   ]
  },
  {
   "cell_type": "code",
   "execution_count": 23,
   "id": "ef8187c0-dd81-43d9-a87c-8ce11ee0241b",
   "metadata": {},
   "outputs": [
    {
     "data": {
      "text/plain": [
       "[1, 2, 3, 'de', 'c', False]"
      ]
     },
     "execution_count": 23,
     "metadata": {},
     "output_type": "execute_result"
    }
   ],
   "source": [
    "L1"
   ]
  },
  {
   "cell_type": "code",
   "execution_count": 22,
   "id": "ec85b354-a477-423f-9187-e9d70a2b00cd",
   "metadata": {},
   "outputs": [],
   "source": [
    "L1[4]='c'"
   ]
  }
 ],
 "metadata": {
  "kernelspec": {
   "display_name": "Python 3 (ipykernel)",
   "language": "python",
   "name": "python3"
  },
  "language_info": {
   "codemirror_mode": {
    "name": "ipython",
    "version": 3
   },
   "file_extension": ".py",
   "mimetype": "text/x-python",
   "name": "python",
   "nbconvert_exporter": "python",
   "pygments_lexer": "ipython3",
   "version": "3.10.8"
  }
 },
 "nbformat": 4,
 "nbformat_minor": 5
}
