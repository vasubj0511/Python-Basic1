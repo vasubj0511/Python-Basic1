{
 "cells": [
  {
   "cell_type": "code",
   "execution_count": 1,
   "id": "b90cb67b-04a4-40c1-ba07-9f0143043d67",
   "metadata": {},
   "outputs": [
    {
     "data": {
      "text/plain": [
       "5.0"
      ]
     },
     "execution_count": 1,
     "metadata": {},
     "output_type": "execute_result"
    }
   ],
   "source": [
    "10/2"
   ]
  },
  {
   "cell_type": "code",
   "execution_count": 2,
   "id": "fa251604-8985-4b71-ba9f-d5ce65187fea",
   "metadata": {},
   "outputs": [
    {
     "data": {
      "text/plain": [
       "25"
      ]
     },
     "execution_count": 2,
     "metadata": {},
     "output_type": "execute_result"
    }
   ],
   "source": [
    "5**2"
   ]
  },
  {
   "cell_type": "code",
   "execution_count": 3,
   "id": "174a0329-52a4-41f9-8802-6960b4505f36",
   "metadata": {},
   "outputs": [
    {
     "data": {
      "text/plain": [
       "3"
      ]
     },
     "execution_count": 3,
     "metadata": {},
     "output_type": "execute_result"
    }
   ],
   "source": [
    "3%5"
   ]
  },
  {
   "cell_type": "code",
   "execution_count": 11,
   "id": "8635cde0-5edb-481d-9e24-713e79e52214",
   "metadata": {},
   "outputs": [
    {
     "data": {
      "text/plain": [
       "3"
      ]
     },
     "execution_count": 11,
     "metadata": {},
     "output_type": "execute_result"
    }
   ],
   "source": [
    "7//2"
   ]
  },
  {
   "cell_type": "code",
   "execution_count": 5,
   "id": "f6a1038c-a323-4004-98fd-bdf146e411bb",
   "metadata": {},
   "outputs": [
    {
     "data": {
      "text/plain": [
       "True"
      ]
     },
     "execution_count": 5,
     "metadata": {},
     "output_type": "execute_result"
    }
   ],
   "source": [
    "3<5"
   ]
  },
  {
   "cell_type": "code",
   "execution_count": 9,
   "id": "3cba6681-ad49-4996-83bb-50b8bf2f5257",
   "metadata": {},
   "outputs": [
    {
     "data": {
      "text/plain": [
       "True"
      ]
     },
     "execution_count": 9,
     "metadata": {},
     "output_type": "execute_result"
    }
   ],
   "source": [
    "2!=5"
   ]
  },
  {
   "cell_type": "code",
   "execution_count": 10,
   "id": "5ce29400-c67d-4930-8e46-1775e87bfd3b",
   "metadata": {},
   "outputs": [
    {
     "data": {
      "text/plain": [
       "1"
      ]
     },
     "execution_count": 10,
     "metadata": {},
     "output_type": "execute_result"
    }
   ],
   "source": [
    "1 and 1"
   ]
  },
  {
   "cell_type": "code",
   "execution_count": 12,
   "id": "3037c03b-3175-4abb-83b7-e5035c5041a2",
   "metadata": {},
   "outputs": [
    {
     "data": {
      "text/plain": [
       "False"
      ]
     },
     "execution_count": 12,
     "metadata": {},
     "output_type": "execute_result"
    }
   ],
   "source": [
    "not  True"
   ]
  },
  {
   "cell_type": "code",
   "execution_count": 14,
   "id": "6d430710-ab3a-417b-829d-5d885ffcb0fe",
   "metadata": {},
   "outputs": [
    {
     "data": {
      "text/plain": [
       "20"
      ]
     },
     "execution_count": 14,
     "metadata": {},
     "output_type": "execute_result"
    }
   ],
   "source": [
    "20&20"
   ]
  },
  {
   "cell_type": "code",
   "execution_count": 16,
   "id": "41339e77-28eb-439c-a261-dc2a7c2558f9",
   "metadata": {},
   "outputs": [
    {
     "data": {
      "text/plain": [
       "'0b11'"
      ]
     },
     "execution_count": 16,
     "metadata": {},
     "output_type": "execute_result"
    }
   ],
   "source": [
    "bin(3)"
   ]
  },
  {
   "cell_type": "code",
   "execution_count": 18,
   "id": "fa930023-a18d-48c6-8dea-1c01cb1c1315",
   "metadata": {},
   "outputs": [
    {
     "data": {
      "text/plain": [
       "47"
      ]
     },
     "execution_count": 18,
     "metadata": {},
     "output_type": "execute_result"
    }
   ],
   "source": [
    "45|3"
   ]
  },
  {
   "cell_type": "code",
   "execution_count": 20,
   "id": "cf1a3fc1-afd9-4ee0-a6e7-23db6035a4b5",
   "metadata": {},
   "outputs": [
    {
     "data": {
      "text/plain": [
       "'0b101111'"
      ]
     },
     "execution_count": 20,
     "metadata": {},
     "output_type": "execute_result"
    }
   ],
   "source": [
    "bin(47)"
   ]
  },
  {
   "cell_type": "code",
   "execution_count": 21,
   "id": "249a9d5f-f0c4-43c7-b8a0-d14efa59a1a3",
   "metadata": {},
   "outputs": [
    {
     "data": {
      "text/plain": [
       "-55"
      ]
     },
     "execution_count": 21,
     "metadata": {},
     "output_type": "execute_result"
    }
   ],
   "source": [
    "~54"
   ]
  },
  {
   "cell_type": "code",
   "execution_count": 22,
   "id": "7a2704ae-b678-48dc-9562-7d5f3c55a4ae",
   "metadata": {},
   "outputs": [
    {
     "data": {
      "text/plain": [
       "-45"
      ]
     },
     "execution_count": 22,
     "metadata": {},
     "output_type": "execute_result"
    }
   ],
   "source": [
    "~44"
   ]
  },
  {
   "cell_type": "code",
   "execution_count": 23,
   "id": "f38de035-a786-446c-9d92-69409541b97f",
   "metadata": {},
   "outputs": [
    {
     "data": {
      "text/plain": [
       "'0b101100'"
      ]
     },
     "execution_count": 23,
     "metadata": {},
     "output_type": "execute_result"
    }
   ],
   "source": [
    "bin(44)"
   ]
  },
  {
   "cell_type": "code",
   "execution_count": 24,
   "id": "7f8bde28-6e8a-4c9d-b053-5b6ce0047a18",
   "metadata": {},
   "outputs": [
    {
     "data": {
      "text/plain": [
       "'-0b101101'"
      ]
     },
     "execution_count": 24,
     "metadata": {},
     "output_type": "execute_result"
    }
   ],
   "source": [
    "#~ will add number 1 to binary value and assign '-' symbol to number\n",
    "bin(-45)"
   ]
  },
  {
   "cell_type": "code",
   "execution_count": 25,
   "id": "6a8535f5-85e3-4f68-8e3a-e60611ff4943",
   "metadata": {},
   "outputs": [
    {
     "data": {
      "text/plain": [
       "3"
      ]
     },
     "execution_count": 25,
     "metadata": {},
     "output_type": "execute_result"
    }
   ],
   "source": [
    "55>>4"
   ]
  },
  {
   "cell_type": "code",
   "execution_count": 30,
   "id": "cfb02fcc-7df7-441f-b2b5-8f114bb0ff91",
   "metadata": {},
   "outputs": [
    {
     "data": {
      "text/plain": [
       "'0b11'"
      ]
     },
     "execution_count": 30,
     "metadata": {},
     "output_type": "execute_result"
    }
   ],
   "source": [
    "bin(3)"
   ]
  },
  {
   "cell_type": "code",
   "execution_count": 26,
   "id": "b0aaf71b-0405-4c8c-b3a3-37e865135a41",
   "metadata": {},
   "outputs": [
    {
     "data": {
      "text/plain": [
       "'0b110111'"
      ]
     },
     "execution_count": 26,
     "metadata": {},
     "output_type": "execute_result"
    }
   ],
   "source": [
    "#>> will shift 4 places of binary value then shows the results 110111 will become 11\n",
    "bin(55)"
   ]
  },
  {
   "cell_type": "code",
   "execution_count": 27,
   "id": "b95dcc4a-0ef8-4ccc-9723-bfbe60b77ecb",
   "metadata": {},
   "outputs": [
    {
     "data": {
      "text/plain": [
       "160"
      ]
     },
     "execution_count": 27,
     "metadata": {},
     "output_type": "execute_result"
    }
   ],
   "source": [
    "40<<2"
   ]
  },
  {
   "cell_type": "code",
   "execution_count": 28,
   "id": "1d531008-2cde-42cd-a2fe-2b80e5149f9f",
   "metadata": {},
   "outputs": [
    {
     "data": {
      "text/plain": [
       "'0b101000'"
      ]
     },
     "execution_count": 28,
     "metadata": {},
     "output_type": "execute_result"
    }
   ],
   "source": [
    "bin(40)"
   ]
  },
  {
   "cell_type": "code",
   "execution_count": 29,
   "id": "4802f443-e2fe-4f84-90e4-18a91b6c9af5",
   "metadata": {},
   "outputs": [
    {
     "data": {
      "text/plain": [
       "'0b10100000'"
      ]
     },
     "execution_count": 29,
     "metadata": {},
     "output_type": "execute_result"
    }
   ],
   "source": [
    "#>> will shift 2 places left of binary value then shows the results 101000 will become 10100000\n",
    "bin(160)"
   ]
  },
  {
   "cell_type": "code",
   "execution_count": 31,
   "id": "ae3db254-ef2c-44ce-970a-818dd1fa97d3",
   "metadata": {},
   "outputs": [],
   "source": [
    "a=10"
   ]
  },
  {
   "cell_type": "code",
   "execution_count": 32,
   "id": "5daed568-72ea-4437-ae3c-02848876127b",
   "metadata": {},
   "outputs": [],
   "source": [
    "a+=1"
   ]
  },
  {
   "cell_type": "code",
   "execution_count": 33,
   "id": "16f3792d-9f40-4648-825b-8707ca912774",
   "metadata": {},
   "outputs": [],
   "source": [
    "a-=2\n",
    "a+=3"
   ]
  },
  {
   "cell_type": "code",
   "execution_count": 34,
   "id": "f12753cc-47fb-4f1a-9063-8905f70d16a4",
   "metadata": {},
   "outputs": [
    {
     "data": {
      "text/plain": [
       "12"
      ]
     },
     "execution_count": 34,
     "metadata": {},
     "output_type": "execute_result"
    }
   ],
   "source": [
    "a"
   ]
  }
 ],
 "metadata": {
  "kernelspec": {
   "display_name": "Python 3 (ipykernel)",
   "language": "python",
   "name": "python3"
  },
  "language_info": {
   "codemirror_mode": {
    "name": "ipython",
    "version": 3
   },
   "file_extension": ".py",
   "mimetype": "text/x-python",
   "name": "python",
   "nbconvert_exporter": "python",
   "pygments_lexer": "ipython3",
   "version": "3.10.8"
  }
 },
 "nbformat": 4,
 "nbformat_minor": 5
}
