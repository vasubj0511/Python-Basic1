{
 "cells": [
  {
   "cell_type": "code",
   "execution_count": 1,
   "id": "031e9d48-b357-48ee-9208-a1bb1c543d6c",
   "metadata": {},
   "outputs": [
    {
     "data": {
      "text/plain": [
       "'Q1. How do you comment code in Python? \\nWhat are the different types of comments?'"
      ]
     },
     "execution_count": 1,
     "metadata": {},
     "output_type": "execute_result"
    }
   ],
   "source": [
    "#1. Q1. How do you comment code in Python? What are the different types of comments?\n"
   ]
  },
  {
   "cell_type": "code",
   "execution_count": 2,
   "id": "f2a4656d-cc7d-4fbd-a57e-481ea6669ca5",
   "metadata": {},
   "outputs": [
    {
     "data": {
      "text/plain": [
       "'Q1. How do you comment code in Python? \\nWhat are the different types of comments?'"
      ]
     },
     "execution_count": 2,
     "metadata": {},
     "output_type": "execute_result"
    }
   ],
   "source": [
    "'''Q1. How do you comment code in Python? \n",
    "What are the different types of comments?'''"
   ]
  },
  {
   "cell_type": "markdown",
   "id": "1cc4df9e-e5b2-466c-bbf1-776ae75cd864",
   "metadata": {},
   "source": [
    "Q1. How do you comment code in Python? \n",
    "What are the different types of comments?"
   ]
  },
  {
   "cell_type": "code",
   "execution_count": 3,
   "id": "d952ca28-fa62-43a7-a635-757fd93018ad",
   "metadata": {},
   "outputs": [],
   "source": [
    "#Above 3 type we can comment the code"
   ]
  },
  {
   "cell_type": "code",
   "execution_count": 4,
   "id": "f381f347-28ad-4e38-baa2-6aa28ec5882e",
   "metadata": {},
   "outputs": [],
   "source": [
    "#Q2. What are variables in Python? How do you declare and assign values to variables?\n",
    "#Ans: Int, String, Float\n",
    "x=5\n",
    "y='Sri'\n",
    "z=0.05"
   ]
  },
  {
   "cell_type": "code",
   "execution_count": 5,
   "id": "68b3674c-ff77-4f83-9b51-cc850ba389cc",
   "metadata": {},
   "outputs": [
    {
     "name": "stdout",
     "output_type": "stream",
     "text": [
      "5 Sri 0.05\n"
     ]
    }
   ],
   "source": [
    "print(x,y,z)"
   ]
  },
  {
   "cell_type": "code",
   "execution_count": 12,
   "id": "7cc046ea-44fb-437d-9770-cc1aed48e00b",
   "metadata": {},
   "outputs": [
    {
     "name": "stdout",
     "output_type": "stream",
     "text": [
      "5 5 <class 'str'> <class 'int'>\n"
     ]
    }
   ],
   "source": [
    "#Q3. How do you convert one data type to another in Python?\n",
    "x='5'\n",
    "y=int(x)\n",
    "print(x,y,type(x),type(y))"
   ]
  },
  {
   "cell_type": "code",
   "execution_count": 7,
   "id": "336570b9-a229-45a7-90e1-832f5525e816",
   "metadata": {},
   "outputs": [
    {
     "ename": "TypeError",
     "evalue": "can only concatenate str (not \"int\") to str",
     "output_type": "error",
     "traceback": [
      "\u001b[0;31m---------------------------------------------------------------------------\u001b[0m",
      "\u001b[0;31mTypeError\u001b[0m                                 Traceback (most recent call last)",
      "Cell \u001b[0;32mIn[7], line 1\u001b[0m\n\u001b[0;32m----> 1\u001b[0m \u001b[38;5;28mprint\u001b[39m(\u001b[43mx\u001b[49m\u001b[38;5;241;43m+\u001b[39;49m\u001b[43my\u001b[49m)\n",
      "\u001b[0;31mTypeError\u001b[0m: can only concatenate str (not \"int\") to str"
     ]
    }
   ],
   "source": [
    "print(x+y)"
   ]
  },
  {
   "cell_type": "code",
   "execution_count": null,
   "id": "eeb5a8a6-66b7-4515-9630-5a3dc783cfce",
   "metadata": {},
   "outputs": [],
   "source": [
    "#Q4. How do you write and execute a Python script from the command line?\n",
    "#ans: Open command line then eneter Python>> enter>> Python file path >> enter"
   ]
  },
  {
   "cell_type": "code",
   "execution_count": 10,
   "id": "fa999141-0800-4299-84d4-5aaaf4aaacdf",
   "metadata": {},
   "outputs": [
    {
     "name": "stdout",
     "output_type": "stream",
     "text": [
      "[2, 3]\n"
     ]
    }
   ],
   "source": [
    "#Q5. Given a list my_list = [1, 2, 3, 4, 5], write the code to slice the list and obtain the sub-list [2, 3].\n",
    "my_list=[1,2,3,4,5]\n",
    "print(my_list[1:3:1])"
   ]
  },
  {
   "cell_type": "code",
   "execution_count": 11,
   "id": "0b49c928-9224-4b62-a55e-0e1fae72fd78",
   "metadata": {},
   "outputs": [
    {
     "name": "stdout",
     "output_type": "stream",
     "text": [
      "[2, 3]\n"
     ]
    }
   ],
   "source": [
    "print(my_list[1:3])"
   ]
  },
  {
   "cell_type": "code",
   "execution_count": 16,
   "id": "c7823894-df78-41d2-92c2-2751d39da497",
   "metadata": {},
   "outputs": [
    {
     "name": "stdout",
     "output_type": "stream",
     "text": [
      "<class 'complex'>\n"
     ]
    }
   ],
   "source": [
    "#Q6. What is a complex number in mathematics, and how is it represented in Python?\n",
    "#complex number is a combination of real and  imaginary number. Ex: 1+5j, 7j+5\n",
    "x=1+5j\n",
    "print(type(x))"
   ]
  },
  {
   "cell_type": "code",
   "execution_count": 18,
   "id": "7d3f526b-7dab-4554-8265-0af1c836c8de",
   "metadata": {},
   "outputs": [],
   "source": [
    "#Q7. What is the correct way to declare a variable named age and assign the value 25 to it?\n",
    "age=25"
   ]
  },
  {
   "cell_type": "code",
   "execution_count": 19,
   "id": "ee390991-8519-4323-908c-eded6d43f702",
   "metadata": {},
   "outputs": [
    {
     "name": "stdout",
     "output_type": "stream",
     "text": [
      "25\n"
     ]
    }
   ],
   "source": [
    "print(age)"
   ]
  },
  {
   "cell_type": "code",
   "execution_count": 20,
   "id": "325aeafe-66a1-4e58-a14d-5a50d6ea1329",
   "metadata": {},
   "outputs": [
    {
     "data": {
      "text/plain": [
       "float"
      ]
     },
     "execution_count": 20,
     "metadata": {},
     "output_type": "execute_result"
    }
   ],
   "source": [
    "'''Q8. Declare a variable named price and assign the value 9.99 to it. What data type does this variable\n",
    "belong to?'''\n",
    "price=9.99\n",
    "type(price)\n",
    "#ans: Float"
   ]
  },
  {
   "cell_type": "code",
   "execution_count": 21,
   "id": "c8c65ddd-c687-4e91-aff2-a9869d44105b",
   "metadata": {},
   "outputs": [
    {
     "name": "stdout",
     "output_type": "stream",
     "text": [
      "Srinivas B\n"
     ]
    }
   ],
   "source": [
    "'''Q9. Create a variable named name and assign your full name to it as a string. How would you print the\n",
    "value of this variable?'''\n",
    "name='Srinivas B'\n",
    "print(name)"
   ]
  },
  {
   "cell_type": "code",
   "execution_count": 22,
   "id": "6bc3febe-7018-4a00-8196-e16b13c1c2e0",
   "metadata": {},
   "outputs": [],
   "source": [
    "#Q10. Given the string \"Hello, World!\", extract the substring \"World\".\n",
    "str1='Hello, World!'"
   ]
  },
  {
   "cell_type": "code",
   "execution_count": 36,
   "id": "114ac419-d9ce-4af5-bf9b-2829dd81703e",
   "metadata": {},
   "outputs": [
    {
     "data": {
      "text/plain": [
       "'World'"
      ]
     },
     "execution_count": 36,
     "metadata": {},
     "output_type": "execute_result"
    }
   ],
   "source": [
    "str1[str1.find('World',1):-1]"
   ]
  },
  {
   "cell_type": "code",
   "execution_count": 37,
   "id": "6b3a5760-3fbf-452d-80de-e15370760aac",
   "metadata": {},
   "outputs": [],
   "source": [
    "'''#Q11. Create a variable named \"is_student\" and assign it a boolean value indicating whether you are\n",
    "currently a student or not.'''\n",
    "is_student=False #I am not student\n"
   ]
  },
  {
   "cell_type": "code",
   "execution_count": 38,
   "id": "4496c60d-6d29-4745-b61d-49c00a3c74f7",
   "metadata": {},
   "outputs": [
    {
     "name": "stdout",
     "output_type": "stream",
     "text": [
      "False\n"
     ]
    }
   ],
   "source": [
    "print(is_student)"
   ]
  },
  {
   "cell_type": "code",
   "execution_count": null,
   "id": "293db004-3ece-46d2-bed9-b35208b0d2b0",
   "metadata": {},
   "outputs": [],
   "source": []
  }
 ],
 "metadata": {
  "kernelspec": {
   "display_name": "Python 3 (ipykernel)",
   "language": "python",
   "name": "python3"
  },
  "language_info": {
   "codemirror_mode": {
    "name": "ipython",
    "version": 3
   },
   "file_extension": ".py",
   "mimetype": "text/x-python",
   "name": "python",
   "nbconvert_exporter": "python",
   "pygments_lexer": "ipython3",
   "version": "3.10.8"
  }
 },
 "nbformat": 4,
 "nbformat_minor": 5
}
