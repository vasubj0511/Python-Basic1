{
 "cells": [
  {
   "cell_type": "code",
   "execution_count": 2,
   "id": "0e6c94b7-4ab1-478b-9c57-a08ae758d2a4",
   "metadata": {},
   "outputs": [
    {
     "data": {
      "text/plain": [
       "['sri', [1, 23, 5, 's'], 53.225, ('h', 5, 2)]"
      ]
     },
     "execution_count": 2,
     "metadata": {},
     "output_type": "execute_result"
    }
   ],
   "source": [
    "'''Create one variable containing following type of data:\n",
    "(i) string\n",
    "(ii) list\n",
    "(iii) float\n",
    "(iv) tuple '''\n",
    "var1=['sri',[1,23,5,'s'],53.225,('h',5,2)]\n",
    "var1\n"
   ]
  },
  {
   "cell_type": "code",
   "execution_count": 5,
   "id": "9ca7d392-9a04-4190-ae9d-7a3220237c49",
   "metadata": {},
   "outputs": [
    {
     "name": "stdout",
     "output_type": "stream",
     "text": [
      "<class 'str'> <class 'str'> <class 'list'> <class 'int'>\n"
     ]
    }
   ],
   "source": [
    "'''Q2. Given are some following variables containing data:\n",
    "(i) var1 = ‘ ‘\n",
    "(ii) var2 = ‘[ DS , ML , Python]’\n",
    "(iii) var3 = [ ‘DS’ , ’ML’ , ‘Python’ ]\n",
    "(iv) var4 = 1.\n",
    "What will be the data type of the above given variable.'''\n",
    "var1 = ' '\n",
    "var2 = '[ DS , ML , Python]'\n",
    "var3 = [ 'DS' , 'ML' , 'Python' ]\n",
    "var4 = 1\n",
    "print(type(var1),type(var2),type(var3),type(var4))\n",
    "#Answer is str,str,list and int"
   ]
  },
  {
   "cell_type": "code",
   "execution_count": 7,
   "id": "264d35cd-507a-4e0a-8cc7-cd9187265cb1",
   "metadata": {},
   "outputs": [
    {
     "name": "stdout",
     "output_type": "stream",
     "text": [
      "2.0\n",
      "1\n",
      "1\n",
      "64\n"
     ]
    }
   ],
   "source": [
    "'''Q3. Explain the use of the following operators using an example:\n",
    "(i) /\n",
    "(ii) %\n",
    "(iii) //\n",
    "(iv) **'''\n",
    "# operator /: it is devisional operator\n",
    "print(8/4)\n",
    "#Ans:2.0\n",
    "# operator %: it is mod operator\n",
    "print(5%4)\n",
    "#Ans:1\n",
    "# operator //: it is floor division operator\n",
    "print(7//5)\n",
    "#Ans:1\n",
    "# operator **: it is power operator\n",
    "print(8**2)\n",
    "#Ans:64\n"
   ]
  },
  {
   "cell_type": "code",
   "execution_count": 24,
   "id": "174eec11-f9a8-4fab-a125-b3ac8d1f9ff9",
   "metadata": {},
   "outputs": [],
   "source": [
    "'''Q4. Create a list of length 10 of your choice containing multiple types of data. Using for loop print the\n",
    "element and its data type.'''\n",
    "L=[1,'sri',1+2j,True,5.56,'Hi',215,4,8,[1,2]]"
   ]
  },
  {
   "cell_type": "code",
   "execution_count": 25,
   "id": "ff0344fe-0e94-4708-b460-e6f33981c819",
   "metadata": {},
   "outputs": [
    {
     "name": "stdout",
     "output_type": "stream",
     "text": [
      "1\n",
      "<class 'int'>\n",
      "sri\n",
      "<class 'str'>\n",
      "(1+2j)\n",
      "<class 'complex'>\n",
      "True\n",
      "<class 'bool'>\n",
      "5.56\n",
      "<class 'float'>\n",
      "Hi\n",
      "<class 'str'>\n",
      "215\n",
      "<class 'int'>\n",
      "4\n",
      "<class 'int'>\n",
      "8\n",
      "<class 'int'>\n",
      "[1, 2]\n",
      "<class 'list'>\n"
     ]
    }
   ],
   "source": [
    "for i in range(10):\n",
    "    print(L[i])\n",
    "    print(type(L[i]))\n",
    "   "
   ]
  },
  {
   "cell_type": "code",
   "execution_count": 27,
   "id": "8f0deed5-94d7-4844-915a-87ec40fef8f1",
   "metadata": {},
   "outputs": [
    {
     "name": "stdin",
     "output_type": "stream",
     "text": [
      " 8\n",
      " 4\n"
     ]
    },
    {
     "name": "stdout",
     "output_type": "stream",
     "text": [
      "A is purly divisable by B\n",
      "2\n"
     ]
    }
   ],
   "source": [
    "'''Q5. Using a while loop, verify if the number A is purely divisible by number B and if so then how many\n",
    "times it can be divisible.'''\n",
    "A=int(input())\n",
    "B=int(input())\n",
    "if A%B==0:\n",
    "    print(\"A is purly divisable by B\")\n",
    "    print(A//B)\n",
    "else:\n",
    "    print(\"A is not purly divisable by B\")\n",
    "\n"
   ]
  },
  {
   "cell_type": "code",
   "execution_count": 38,
   "id": "3124efcc-3dd9-4148-8562-ab33463f3682",
   "metadata": {},
   "outputs": [
    {
     "name": "stdout",
     "output_type": "stream",
     "text": [
      "0  is divisible by 3\n",
      "1  is not divisible by 3\n",
      "2  is not divisible by 3\n",
      "3  is divisible by 3\n",
      "4  is not divisible by 3\n",
      "5  is not divisible by 3\n",
      "6  is divisible by 3\n",
      "7  is not divisible by 3\n",
      "8  is not divisible by 3\n",
      "9  is divisible by 3\n",
      "10  is not divisible by 3\n",
      "11  is not divisible by 3\n",
      "12  is divisible by 3\n",
      "13  is not divisible by 3\n",
      "14  is not divisible by 3\n",
      "15  is divisible by 3\n",
      "16  is not divisible by 3\n",
      "17  is not divisible by 3\n",
      "18  is divisible by 3\n",
      "19  is not divisible by 3\n",
      "20  is not divisible by 3\n",
      "21  is divisible by 3\n",
      "22  is not divisible by 3\n",
      "23  is not divisible by 3\n",
      "24  is divisible by 3\n"
     ]
    }
   ],
   "source": [
    "'''Q6. Create a list containing 25 int type data. Using for loop and if-else condition print if the element is\n",
    "divisible by 3 or not.'''\n",
    "\n",
    "for i in range(25):\n",
    "    if i%3==0:\n",
    "        print(i, \" is divisible by 3\")\n",
    "    else:\n",
    "        print(i,\" is not divisible by 3\")\n",
    "    i=i+1\n",
    "    \n",
    "        \n",
    "    \n",
    "        \n"
   ]
  },
  {
   "cell_type": "code",
   "execution_count": 39,
   "id": "acfb8123-626d-4f7f-b4f9-b71f047b51ce",
   "metadata": {},
   "outputs": [],
   "source": [
    "'''Q7. What do you understand about mutable and immutable data types? Give examples for both showing\n",
    "this property.'''\n",
    "L=[1,5,'Sri','vasu']"
   ]
  },
  {
   "cell_type": "code",
   "execution_count": 41,
   "id": "36556268-2340-47db-b5b4-febfb6fd056c",
   "metadata": {},
   "outputs": [
    {
     "data": {
      "text/plain": [
       "[1, 5, 'abc', 'vasu']"
      ]
     },
     "execution_count": 41,
     "metadata": {},
     "output_type": "execute_result"
    }
   ],
   "source": [
    "#Mutable\n",
    "L[2]='abc'\n",
    "L"
   ]
  },
  {
   "cell_type": "code",
   "execution_count": 42,
   "id": "18e6e3db-14c7-496d-bcb8-231903de3bc0",
   "metadata": {},
   "outputs": [
    {
     "ename": "TypeError",
     "evalue": "'str' object does not support item assignment",
     "output_type": "error",
     "traceback": [
      "\u001b[0;31m---------------------------------------------------------------------------\u001b[0m",
      "\u001b[0;31mTypeError\u001b[0m                                 Traceback (most recent call last)",
      "Cell \u001b[0;32mIn[42], line 2\u001b[0m\n\u001b[1;32m      1\u001b[0m \u001b[38;5;66;03m#Immutable\u001b[39;00m\n\u001b[0;32m----> 2\u001b[0m \u001b[43mL\u001b[49m\u001b[43m[\u001b[49m\u001b[38;5;241;43m2\u001b[39;49m\u001b[43m]\u001b[49m\u001b[43m[\u001b[49m\u001b[38;5;241;43m1\u001b[39;49m\u001b[43m]\u001b[49m\u001b[38;5;241m=\u001b[39m\u001b[38;5;124m'\u001b[39m\u001b[38;5;124ma\u001b[39m\u001b[38;5;124m'\u001b[39m\n",
      "\u001b[0;31mTypeError\u001b[0m: 'str' object does not support item assignment"
     ]
    }
   ],
   "source": [
    "#Immutable\n",
    "L[2][1]='a'"
   ]
  }
 ],
 "metadata": {
  "kernelspec": {
   "display_name": "Python 3 (ipykernel)",
   "language": "python",
   "name": "python3"
  },
  "language_info": {
   "codemirror_mode": {
    "name": "ipython",
    "version": 3
   },
   "file_extension": ".py",
   "mimetype": "text/x-python",
   "name": "python",
   "nbconvert_exporter": "python",
   "pygments_lexer": "ipython3",
   "version": "3.10.8"
  }
 },
 "nbformat": 4,
 "nbformat_minor": 5
}
